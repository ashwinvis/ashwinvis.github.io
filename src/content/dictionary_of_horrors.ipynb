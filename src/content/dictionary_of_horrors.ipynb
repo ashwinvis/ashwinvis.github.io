{
 "cells": [
  {
   "cell_type": "markdown",
   "metadata": {},
   "source": [
    "- Title: A dictionary of horrors\n",
    "- Authors: Ashwin Vishnu\n",
    "- Date: 2018-01-31\n",
    "- Tags: python\n",
    "- Category: Tech Talk"
   ]
  },
  {
   "cell_type": "markdown",
   "metadata": {},
   "source": [
    "## One for all and all for one"
   ]
  },
  {
   "cell_type": "code",
   "execution_count": 1,
   "metadata": {},
   "outputs": [
    {
     "data": {
      "text/plain": [
       "{'Mercury': [], 'Venus': [], 'Earth': [], 'Mars': []}"
      ]
     },
     "execution_count": 1,
     "metadata": {},
     "output_type": "execute_result"
    }
   ],
   "source": [
    "planets = (\"Mercury\", \"Venus\", \"Earth\", \"Mars\")\n",
    "\n",
    "sattelites = dict.fromkeys(planets, [])\n",
    "sattelites"
   ]
  },
  {
   "cell_type": "code",
   "execution_count": 2,
   "metadata": {},
   "outputs": [],
   "source": [
    "sattelites[\"Earth\"].append(\"Moon\")"
   ]
  },
  {
   "cell_type": "markdown",
   "metadata": {},
   "source": [
    "### What you expect\n",
    "\n",
    "```python\n",
    ">>> sattelites\n",
    "{'Mercury': [], 'Venus': [], 'Earth': ['Moon'], 'Mars': []}\n",
    "```\n",
    "\n",
    "### What you actually get"
   ]
  },
  {
   "cell_type": "code",
   "execution_count": 3,
   "metadata": {
    "scrolled": true
   },
   "outputs": [
    {
     "data": {
      "text/plain": [
       "{'Mercury': ['Moon'], 'Venus': ['Moon'], 'Earth': ['Moon'], 'Mars': ['Moon']}"
      ]
     },
     "execution_count": 3,
     "metadata": {},
     "output_type": "execute_result"
    }
   ],
   "source": [
    "sattelites"
   ]
  },
  {
   "cell_type": "markdown",
   "metadata": {},
   "source": [
    "## Why?\n",
    "\n",
    "Surely string as keys are valid and hashable, no doubt about that, but this behaviour is weird."
   ]
  },
  {
   "cell_type": "code",
   "execution_count": 4,
   "metadata": {},
   "outputs": [
    {
     "data": {
      "text/plain": [
       "(139764445576200, 139764445576200)"
      ]
     },
     "execution_count": 4,
     "metadata": {},
     "output_type": "execute_result"
    }
   ],
   "source": [
    "id(sattelites[\"Earth\"]), id(sattelites[\"Mars\"])"
   ]
  },
  {
   "cell_type": "markdown",
   "metadata": {},
   "source": [
    "Apparently the same `list` instance is assigned to all the dictionary items which gets mutated. This is also the case if you initialize as follows."
   ]
  },
  {
   "cell_type": "code",
   "execution_count": 5,
   "metadata": {},
   "outputs": [
    {
     "data": {
      "text/plain": [
       "(139764445511368, 139764445511368)"
      ]
     },
     "execution_count": 5,
     "metadata": {},
     "output_type": "execute_result"
    }
   ],
   "source": [
    "sattelites = dict.fromkeys(planets, list())\n",
    "id(sattelites[\"Earth\"]), id(sattelites[\"Mars\"])"
   ]
  },
  {
   "cell_type": "markdown",
   "metadata": {},
   "source": [
    "The `id` is still the same across dictionaries!"
   ]
  },
  {
   "cell_type": "markdown",
   "metadata": {},
   "source": [
    "## The solution: Use dictionary comprehensions"
   ]
  },
  {
   "cell_type": "code",
   "execution_count": 6,
   "metadata": {},
   "outputs": [
    {
     "data": {
      "text/plain": [
       "{'Mercury': [], 'Venus': [], 'Earth': [], 'Mars': []}"
      ]
     },
     "execution_count": 6,
     "metadata": {},
     "output_type": "execute_result"
    }
   ],
   "source": [
    "sattelites = {planet: [] for planet in planets}\n",
    "sattelites"
   ]
  },
  {
   "cell_type": "code",
   "execution_count": 7,
   "metadata": {
    "scrolled": true
   },
   "outputs": [
    {
     "data": {
      "text/plain": [
       "{'Mercury': [], 'Venus': [], 'Earth': ['Moon'], 'Mars': []}"
      ]
     },
     "execution_count": 7,
     "metadata": {},
     "output_type": "execute_result"
    }
   ],
   "source": [
    "sattelites[\"Earth\"].append(\"Moon\")\n",
    "sattelites"
   ]
  },
  {
   "cell_type": "code",
   "execution_count": 8,
   "metadata": {},
   "outputs": [
    {
     "data": {
      "text/plain": [
       "(139764445567048, 139764351351752)"
      ]
     },
     "execution_count": 8,
     "metadata": {},
     "output_type": "execute_result"
    }
   ],
   "source": [
    "id(sattelites[\"Earth\"]), id(sattelites[\"Mars\"])"
   ]
  },
  {
   "cell_type": "markdown",
   "metadata": {},
   "source": [
    "Finally the `id`s are different :)"
   ]
  },
  {
   "cell_type": "markdown",
   "metadata": {},
   "source": [
    "*You can [download](https://raw.githubusercontent.com/ashwinvis/ashwinvis.github.io/develop/src/content/dictionary_of_horrors.ipynb) this notebook, or see a static view [on nbviewer](https://nbviewer.jupyter.org/github/ashwinvis/ashwinvis.github.io/blob/develop/src/content/dictionary_of_horrors.ipynb).*"
   ]
  }
 ],
 "metadata": {
  "kernelspec": {
   "display_name": "Python 3",
   "language": "python",
   "name": "python3"
  },
  "language_info": {
   "codemirror_mode": {
    "name": "ipython",
    "version": 3
   },
   "file_extension": ".py",
   "mimetype": "text/x-python",
   "name": "python",
   "nbconvert_exporter": "python",
   "pygments_lexer": "ipython3",
   "version": "3.7.2"
  }
 },
 "nbformat": 4,
 "nbformat_minor": 2
}
