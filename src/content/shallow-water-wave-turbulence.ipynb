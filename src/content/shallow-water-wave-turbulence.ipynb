{
 "cells": [
  {
   "cell_type": "markdown",
   "metadata": {},
   "source": [
    "- Title: New article: Shallow water wave turbulence\n",
    "- Authors: Ashwin Vishnu\n",
    "- Date: 2019-07-17\n",
    "- Tags:fluid-mechanics, open-source, open-access\n",
    "- Category:  Blog\n",
    "- Summary: Paper about how turbulence in shallow water equations evolves and gives rise to shock waves."
   ]
  },
  {
   "cell_type": "markdown",
   "metadata": {},
   "source": [
    "Just today another [open access\n",
    "paper](https://doi.org/10.1017/jfm.2019.375) got published. This paper\n",
    "talks about some how turbulence in shallow water equations evolves and\n",
    "gives rise to shock waves. There are also some novel statistical results\n",
    "which might find use in other fields like acoustics.\n",
    "\n",
    "<div align='center'>\n",
    "<a href=\"https://www.cambridge.org/core/journals/journal-of-fluid-mechanics/article/shallow-water-wave-turbulence/FC70A8CFDBC333070AC726C363FE3E0B\">\n",
    "   <img src=\"https://static.cambridge.org/resource/id/urn:cambridge.org:id:binary-alt:20190711124349-15858-optimisedImage-S0022112019003756_fig15g.jpg\" width=\"300\" alt=\"image\" />\n",
    "</a>\n",
    "\n",
    "<p>\n",
    "Figure: Shocks becoming stronger and weaker with variations in Reynolds number and Froude numbers.\n",
    "</p>\n",
    "</div>\n",
    "\n",
    "Find more about it in [here](https://doi.org/10.1017/jfm.2019.375)."
   ]
  },
  {
   "cell_type": "markdown",
   "metadata": {},
   "source": [
    "### Abstract\n",
    "\n",
    "The dynamics of irrotational shallow water wave turbulence forced in large\n",
    "scales and dissipated at small scales is investigated. First, we derive the\n",
    "shallow water analogue of the `four-fifths law' of Kolmogorov turbulence for a\n",
    "third order structure function involving velocity and displacement increments.\n",
    "Using this relation and assuming that the flow is dominated by shocks we\n",
    "develop a simple model predicting that the shock amplitude scales as $(\\epsilon\n",
    "d)^{1/3}$, where $\\epsilon$ is the mean dissipation rate and $d$ the mean\n",
    "distance between the shocks, and that the $p$:th order displacement and\n",
    "velocity structure functions scale as $(\\epsilon d)^{p/3} r/d$, where $r$ is\n",
    "the separation. Then we carry out a series of forced simulations with\n",
    "resolutions up to $7680^2$, varying the Froude number, $F_{f} = \\epsilon^{1/3}\n",
    "/ ck_f^{1/3}$, where $k_f$ is the forcing wave number and $c$ is the wave\n",
    "speed. In all simulations a stationary state is reached in which there is a\n",
    "constant spectral energy flux and equipartition between kinetic and potential\n",
    "energy in the constant flux range. The third order structure function relation\n",
    "is satisfied with a high degree of accuracy. Mean energy is found to scale as\n",
    "$E \\sim \\sqrt{\\epsilon c/k_f}$,\n",
    "and is also dependent on resolution, indicating\n",
    "that shallow water wave turbulence does not fit into the paradigm of a\n",
    "Richardson-Kolmogorov cascade. In all simulations shocks develop, displayed as\n",
    "long thin bands of negative divergence in flow visualisations. The mean\n",
    "distance between the shocks is found to scale as $d \\sim F_f^{1/2}/k_f$.\n",
    "Structure functions of second and higher order are found to scale in good\n",
    "agreement with the model. We conclude that in the weak limit, $F_f \\rightarrow\n",
    "0$, shocks will become denser and weaker and finally disappear for a finite\n",
    "Reynolds number. On the other hand, for a given $F_{f}$, no matter how small,\n",
    "shocks will prevail if the Reynolds number is sufficiently large.\n"
   ]
  }
 ],
 "metadata": {
  "kernelspec": {
   "display_name": "Python 3",
   "language": "python",
   "name": "python3"
  },
  "language_info": {
   "codemirror_mode": {
    "name": "ipython",
    "version": 3
   },
   "file_extension": ".py",
   "mimetype": "text/x-python",
   "name": "python",
   "nbconvert_exporter": "python",
   "pygments_lexer": "ipython3",
   "version": "3.7.3"
  }
 },
 "nbformat": 4,
 "nbformat_minor": 5
}
