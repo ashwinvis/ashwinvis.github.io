{
 "cells": [
  {
   "cell_type": "markdown",
   "metadata": {},
   "source": [
    "- Title: Lightweight classes for scientific computing using \"cached_property\"\n",
    "- Authors: Ashwin Vishnu\n",
    "- Date: 2018-12-25\n",
    "- Modified: 2018-12-26\n",
    "- Tags: fluidfft, fluidsim, optimization\n",
    "- Category: Tech Talk"
   ]
  },
  {
   "cell_type": "markdown",
   "metadata": {},
   "source": [
    "In the quest for optimization and fast computation, while using object-oriented programming, it is a typical technique to initialize the linear algebra array operators as class attributes. Especially in ``fluidfft`` we encounter pseudospectral operator classes that look like:\n",
    "\n",
    "```python\n",
    "import numpy as np\n",
    "from fluiddyn.util import mpi\n",
    "\n",
    "class Operator:\n",
    "    def __init__(self, *params):\n",
    "        ...\n",
    "        [self.KY, self.KX] = np.meshgrid(self.ky_loc, self.kx_loc)\n",
    "        self.KX2 = self.KX ** 2\n",
    "        self.KY2 = self.KY ** 2\n",
    "        self.K2 = self.KX2 + self.KY2\n",
    "        self.K4 = self.K2 ** 2\n",
    "        self.K8 = self.K4 ** 2\n",
    "        self.K = np.sqrt(self.K2)\n",
    "\n",
    "        self.K_not0 = self.K.copy()\n",
    "        self.K2_not0 = self.K2.copy()\n",
    "        self.K4_not0 = self.K4.copy()\n",
    "        if mpi.rank == 0 or self.is_sequential:\n",
    "            self.K_not0[0, 0] = 10.0e-10\n",
    "            self.K2_not0[0, 0] = 10.0e-10\n",
    "            self.K4_not0[0, 0] = 10.0e-10\n",
    "        ...\n",
    "        \n",
    "```\n",
    "\n",
    "As you can see, for the purpose of fast computation, we store modified versions of the wavenumber arrays that are used repeatedly later on, during simulation. These arrays may not be required while instantiating the same class for post-processing, and could result in unnecessary delays while loading large simulations.\n",
    "\n",
    "For demonstrating using a simple example, we can create a class which automatically stores the operator arrays to compute the **derivatives using finite difference schemes**. Specifically we consider a *compact finite difference scheme*, named OUCS3 (Sengupta, T.K., Sircar, S.K. & Dipankar, A., [J Sci Comput (2006) 26: 151](https://doi.org/10.1007/s10915-005-4928-3)).\n",
    "\n",
    "## Short primer on explicit and compact finite difference schemes\n",
    "\n",
    "Differentiation using explicit finite difference scheme can be represented as:\n",
    "\n",
    "$$ \\{u'\\} = \\mathbf{A} \\{u\\} $$\n",
    "\n",
    "Where $u$ is a known 1-D vector and $u'$ is the desired first derivative of $u$. For *second-order central difference* ($CD_2$), the \"matrix\" $\\mathbf{A}$ takes the form of a tri-diagonal matrix with repeating elements like:\n",
    "\n",
    "$$\\mathbf{A} = \n",
    " \\begin{pmatrix}\n",
    "  0      &  1/\\Delta  & \\cdots & 0 \\\\\n",
    "  -1/\\Delta  & \\ddots & \\ddots & 0 \\\\\n",
    "  \\vdots  & \\ddots  & \\ddots & 1/\\Delta  \\\\\n",
    "   0 & 0 & -1/\\Delta & 0 \n",
    " \\end{pmatrix}\n",
    " $$\n",
    "\n",
    "Such schemes do not require an array representation and can be substituted with for-loops is compiled languages such as C, Fortran etc. To implement this particular case in Python, they have to be either:\n",
    "\n",
    "1. represented using sparse matrices to allow for fast dot product, matrix multiplications etc.\n",
    "2. implemented using compiled functions (Pythran, Cython, Numba etc.) to allow for fast looping over arrays\n",
    "\n",
    "However irrespective of the programming languages, when we begin to use higher order schemes such as compact finite difference schemes:\n",
    "\n",
    "\\begin{aligned}\n",
    "\\mathbf{B} \\{u'\\} &= \\mathbf{A} \\{u\\} \\\\\n",
    "\\{u'\\} &= \\mathbf{B}^{-1} \\mathbf{A} \\{u\\} \\\\\n",
    "\\end{aligned}\n",
    "\n",
    "we end up initializing arrays. Here $\\mathbf{A}$ and $\\mathbf{B}$ can be sparse matrices, typically pentadiagonal and tridiagonal respectively. The resultant operator, $\\mathbf{C} = \\mathbf{B}^{-1}\\mathbf{A}$ is quite dense, and thus in practice it is easier to compute the derivative in two steps:\n",
    "\n",
    "1. Matrix multiplication $\\mathbf A \\{u\\} \\to \\{d\\}$\n",
    "2. Solve $\\mathbf B \\{u'\\} = \\{d\\}$ iteratively, using TDMA\n",
    "\n",
    "> **Note**: Boundary conditions (BC) would mean the matrices would be slightly different, but we avoid this consideration in this post, since ``scipy`` does not seem to have special solvers for such matrices. Ideally one would use a Thomas Diagonal Matrix Algorithm / TDMA specially designed for problems with periodic BC.\n",
    "\n",
    "## Demo\n",
    "\n",
    "We will be reusing the following `Base` class to store the input parameters for OUCS3"
   ]
  },
  {
   "cell_type": "code",
   "execution_count": 1,
   "metadata": {},
   "outputs": [],
   "source": [
    "%matplotlib inline\n",
    "import numpy as np\n",
    "from scipy.sparse import diags\n",
    "from scipy.sparse.linalg import inv\n",
    "import seaborn as sns\n",
    "\n",
    "\n",
    "class Base:\n",
    "    def __init__(self, L, N, alpha=0.0):\n",
    "        \"\"\"Gather input parameters for OUCS3\n",
    "        \n",
    "        Parameters\n",
    "        ----------\n",
    "        L: float\n",
    "            length of the domain\n",
    "        N: int\n",
    "            number of points\n",
    "        alpha: float\n",
    "            upwind factor, adds numerical dissipation\n",
    "        \n",
    "        \"\"\"\n",
    "        # Scalar parameters\n",
    "        self.L = L\n",
    "        self.N = N\n",
    "\n",
    "        delta = L / (N - 1)\n",
    "        \n",
    "        a0 = -11 * alpha / 150\n",
    "        a1 = 1.57557379 / 2.0 + alpha / 30.0\n",
    "        a2 = 0.183205192 / 4.0 + alpha / 300.0\n",
    "        \n",
    "        b0 = 1.0\n",
    "        b1 = 0.3793894912 + alpha / 60.0\n",
    "        \n",
    "        # Create pentadiagonal matrix, A\n",
    "        self.A = diags(\n",
    "            np.array([-a2, -a1, a0, a1, a2]) / delta,\n",
    "            [-2, -1, 0, 1, 2,],\n",
    "            shape=(N, N),\n",
    "            format=\"csc\"\n",
    "        )\n",
    "    \n",
    "        # Create tridiagonal matrix, B\n",
    "        self.B = diags(\n",
    "            [b1, b0, b1],\n",
    "            [-1, 0, 1],\n",
    "            shape=(N, N),\n",
    "            format=\"csc\"\n",
    "        )\n",
    "\n",
    "    def diff(self, u):\n",
    "        Au = self.A @ u\n",
    "        # inefficient alternative\n",
    "        return inv(self.B) @ Au\n",
    "        \n",
    "    def plot(self, **fields):\n",
    "        fields.update({\"x\": np.linspace(0, self.L, self.N)})\n",
    "        for field in fields:\n",
    "            if field != \"x\":\n",
    "                sns.lineplot(\"x\", field, data=fields, label=field)"
   ]
  },
  {
   "cell_type": "markdown",
   "metadata": {},
   "source": [
    "Have a look at how the arrays look like"
   ]
  },
  {
   "cell_type": "code",
   "execution_count": 2,
   "metadata": {},
   "outputs": [
    {
     "name": "stdout",
     "output_type": "stream",
     "text": [
      "\n",
      "A = \n",
      " [[ 0.          0.31345045  0.01822376  0.          0.          0.        ]\n",
      " [-0.31345045  0.          0.31345045  0.01822376  0.          0.        ]\n",
      " [-0.01822376 -0.31345045  0.          0.31345045  0.01822376  0.        ]\n",
      " [ 0.         -0.01822376 -0.31345045  0.          0.31345045  0.01822376]\n",
      " [ 0.          0.         -0.01822376 -0.31345045  0.          0.31345045]\n",
      " [ 0.          0.          0.         -0.01822376 -0.31345045  0.        ]]\n",
      "\n",
      "B = \n",
      " [[1.         0.37938949 0.         0.         0.         0.        ]\n",
      " [0.37938949 1.         0.37938949 0.         0.         0.        ]\n",
      " [0.         0.37938949 1.         0.37938949 0.         0.        ]\n",
      " [0.         0.         0.37938949 1.         0.37938949 0.        ]\n",
      " [0.         0.         0.         0.37938949 1.         0.37938949]\n",
      " [0.         0.         0.         0.         0.37938949 1.        ]]\n"
     ]
    }
   ],
   "source": [
    "o = Base(4 * np.pi, 6)\n",
    "print(\"\\nA = \\n\", o.A.toarray())\n",
    "print(\"\\nB = \\n\", o.B.toarray())"
   ]
  },
  {
   "cell_type": "markdown",
   "metadata": {},
   "source": [
    "We can inherit the class to use an efficient algorithm to solve such arrays, such as ``scipy.linalg.solve_toeplitz`` which does not accept sparse arrays as inputs."
   ]
  },
  {
   "cell_type": "code",
   "execution_count": 3,
   "metadata": {},
   "outputs": [],
   "source": [
    "from scipy.linalg import solve_toeplitz\n",
    "\n",
    "class OUCS3(Base):\n",
    "    \"\"\"A class to perform OUCS3 compact scheme finite differentiation.\"\"\"\n",
    "    def diff(self, u):\n",
    "        Au = self.A @ u\n",
    "        B_column = self.B[:,0].toarray()\n",
    "        B_row = self.B[0,:].toarray()\n",
    "        return solve_toeplitz((B_column, B_row), Au)"
   ]
  },
  {
   "cell_type": "markdown",
   "metadata": {},
   "source": [
    "### Test that everything works\n",
    "\n",
    "Let's compare derivatives of a gaussian pulse computed using OUCS3 and explicit finite difference schemes."
   ]
  },
  {
   "cell_type": "code",
   "execution_count": 4,
   "metadata": {},
   "outputs": [
    {
     "data": {
      "image/png": "[encoded data removed]",
      "text/plain": [
       "<Figure size 640x480 with 1 Axes>"
      ]
     },
     "metadata": {},
     "output_type": "display_data"
    }
   ],
   "source": [
    "from scipy.signal import gausspulse\n",
    "\n",
    "def init_params_fields(N):\n",
    "    \"\"\"Initialize parameters and generate a gaussian pulse.\"\"\"\n",
    "    L = 2 * np.pi\n",
    "    x = np.linspace(0, L, N)\n",
    "\n",
    "    u = gausspulse(abs(x - L/2), fc=2)\n",
    "    return L, N, x, u\n",
    "\n",
    "L, N, x, u = init_params_fields(100)\n",
    "\n",
    "oper = OUCS3(L, N)\n",
    "ux = oper.diff(u)\n",
    "\n",
    "oper.plot(u=u, ux_OUCS3=ux, ux_explicit=np.gradient(u, x))"
   ]
  },
  {
   "cell_type": "markdown",
   "metadata": {},
   "source": [
    "#### Cost of instantiation and computing derivatives\n",
    "\n",
    "Let us have a look at the time consumed in instantiating the class. We will use\n",
    "\n",
    "* $N=1000$ (typical array size for a well resolved 1D simulation)"
   ]
  },
  {
   "cell_type": "markdown",
   "metadata": {},
   "source": [
    "We might extend what we observe here to 2D ($N=1000^2$) and 3D simulations ($N=100^3$ to $N=1000^3$). We shall use the package `line_profiler` to time the time elapsed in each line. The system has been tuned using `perf` package to reduce jitter."
   ]
  },
  {
   "cell_type": "code",
   "execution_count": 5,
   "metadata": {},
   "outputs": [
    {
     "data": {
      "text/plain": [
       "Timer unit: 1e-06 s\n",
       "\n",
       "Total time: 0.01216 s\n",
       "File: <ipython-input-3-12c24f274ae1>\n",
       "Function: diff at line 5\n",
       "\n",
       "Line #      Hits         Time  Per Hit   % Time  Line Contents\n",
       "==============================================================\n",
       "     5                                               def diff(self, u):\n",
       "     6         1         87.0     87.0      0.7          Au = self.A @ u\n",
       "     7         1       1579.0   1579.0     13.0          B_column = self.B[:,0].toarray()\n",
       "     8         1       1648.0   1648.0     13.6          B_row = self.B[0,:].toarray()\n",
       "     9         1       8846.0   8846.0     72.7          return solve_toeplitz((B_column, B_row), Au)\n",
       "\n",
       "Total time: 0.015373 s\n",
       "File: <ipython-input-5-3ad1c1c5fdb7>\n",
       "Function: profile_OUCS3 at line 3\n",
       "\n",
       "Line #      Hits         Time  Per Hit   % Time  Line Contents\n",
       "==============================================================\n",
       "     3                                           def profile_OUCS3(N):\n",
       "     4         1        342.0    342.0      2.2      L, N, x, u = init_params_fields(N)\n",
       "     5         1       2846.0   2846.0     18.5      oper = OUCS3(L, N)  # instantiate\n",
       "     6         1      12185.0  12185.0     79.3      ux = oper.diff(u)   # compute derivative"
      ]
     },
     "metadata": {},
     "output_type": "display_data"
    }
   ],
   "source": [
    "%load_ext line_profiler\n",
    "\n",
    "def profile_OUCS3(N):\n",
    "    L, N, x, u = init_params_fields(N)\n",
    "    oper = OUCS3(L, N)  # instantiate\n",
    "    ux = oper.diff(u)   # compute derivative\n",
    "\n",
    "%lprun -f profile_OUCS3 -f OUCS3.diff profile_OUCS3(1_000)"
   ]
  },
  {
   "cell_type": "markdown",
   "metadata": {},
   "source": [
    "The instantiation just takes over a millisecond and secondary arrays `B_column` and `B_row` takes around a millisecond each, taking a combined time of around $20 \\%$ of the method `diff`. Even at this scale, we see it can be benificial to store `B_column` and `B_array` as attributes.\n",
    "\n",
    "## HOWTO: create a lightweight class with cached attributes\n",
    "\n",
    "Let us begin by inheriting the `Base` class wherein the `diff` method uses stored values for `B_column` and `B_row`."
   ]
  },
  {
   "cell_type": "code",
   "execution_count": 6,
   "metadata": {},
   "outputs": [],
   "source": [
    "from scipy.linalg import solve_toeplitz\n",
    "\n",
    "class BaseCached(Base):\n",
    "    def diff(self, u):\n",
    "        Au = self.A @ u\n",
    "        B_column = self._B_column\n",
    "        B_row = self._B_row\n",
    "        return solve_toeplitz((B_column, B_row), Au)"
   ]
  },
  {
   "cell_type": "markdown",
   "metadata": {},
   "source": [
    "#### First run\n",
    "\n",
    "If we are not going to rely on a third-party packages, we can do the following now (with Python 3) with `functools.lru_cache` ([docs](https://docs.python.org/3/library/functools.html?highlight=lru_cache#functools.lru_cache))."
   ]
  },
  {
   "cell_type": "code",
   "execution_count": 7,
   "metadata": {},
   "outputs": [],
   "source": [
    "from functools import lru_cache\n",
    "    \n",
    "class OUCS3Native(BaseCached):\n",
    "    \"\"\"A native implementation of a ``cached_property``.\"\"\"\n",
    "    @property\n",
    "    @lru_cache(maxsize=2)\n",
    "    def _B_column(self):\n",
    "        return self.B[:,0].toarray()\n",
    "\n",
    "    @property\n",
    "    @lru_cache(maxsize=2)\n",
    "    def _B_row(self):\n",
    "        return self.B[0,:].toarray()"
   ]
  },
  {
   "cell_type": "code",
   "execution_count": 8,
   "metadata": {},
   "outputs": [],
   "source": [
    "L, N, x, u = init_params_fields(1_000)\n",
    "oper_native = OUCS3Native(L, N)"
   ]
  },
  {
   "cell_type": "code",
   "execution_count": 9,
   "metadata": {},
   "outputs": [
    {
     "data": {
      "text/plain": [
       "Timer unit: 1e-06 s\n",
       "\n",
       "Total time: 0.011203 s\n",
       "File: <ipython-input-6-b2308b39973e>\n",
       "Function: diff at line 4\n",
       "\n",
       "Line #      Hits         Time  Per Hit   % Time  Line Contents\n",
       "==============================================================\n",
       "     4                                               def diff(self, u):\n",
       "     5         1        155.0    155.0      1.4          Au = self.A @ u\n",
       "     6         1       1783.0   1783.0     15.9          B_column = self._B_column\n",
       "     7         1       1649.0   1649.0     14.7          B_row = self._B_row\n",
       "     8         1       7616.0   7616.0     68.0          return solve_toeplitz((B_column, B_row), Au)"
      ]
     },
     "metadata": {},
     "output_type": "display_data"
    }
   ],
   "source": [
    "%lprun -f OUCS3Native.diff oper_native.diff(u)"
   ]
  },
  {
   "cell_type": "markdown",
   "metadata": {},
   "source": [
    "#### Second run"
   ]
  },
  {
   "cell_type": "code",
   "execution_count": 10,
   "metadata": {},
   "outputs": [
    {
     "data": {
      "text/plain": [
       "Timer unit: 1e-06 s\n",
       "\n",
       "Total time: 0.006538 s\n",
       "File: <ipython-input-6-b2308b39973e>\n",
       "Function: diff at line 4\n",
       "\n",
       "Line #      Hits         Time  Per Hit   % Time  Line Contents\n",
       "==============================================================\n",
       "     4                                               def diff(self, u):\n",
       "     5         1        139.0    139.0      2.1          Au = self.A @ u\n",
       "     6         1          3.0      3.0      0.0          B_column = self._B_column\n",
       "     7         1          1.0      1.0      0.0          B_row = self._B_row\n",
       "     8         1       6395.0   6395.0     97.8          return solve_toeplitz((B_column, B_row), Au)"
      ]
     },
     "metadata": {},
     "output_type": "display_data"
    }
   ],
   "source": [
    "%lprun -f OUCS3Native.diff oper_native.diff(u)"
   ]
  },
  {
   "cell_type": "markdown",
   "metadata": {},
   "source": [
    "It is super quick to access ``_B_column`` and ``_B_row`` in the second run and takes simply microseconds!\n",
    "\n",
    "## How does it work\n",
    "\n",
    "The least recently used cache (LRU) optimizes the function call, caches the return value, and returns the cache for future calls if the function parameters were \"unchanged\".\n",
    "\n",
    "Such an implementation would be protected from simple initialization attempts such as:"
   ]
  },
  {
   "cell_type": "code",
   "execution_count": 11,
   "metadata": {},
   "outputs": [
    {
     "ename": "AttributeError",
     "evalue": "can't set attribute",
     "output_type": "error",
     "traceback": [
      "\u001b[0;31m---------------------------------------------------------------------------\u001b[0m",
      "\u001b[0;31mAttributeError\u001b[0m                            Traceback (most recent call last)",
      "\u001b[0;32m<ipython-input-11-6219892dab4c>\u001b[0m in \u001b[0;36m<module>\u001b[0;34m\u001b[0m\n\u001b[0;32m----> 1\u001b[0;31m \u001b[0moper_native\u001b[0m\u001b[0;34m.\u001b[0m\u001b[0m_B_column\u001b[0m \u001b[0;34m=\u001b[0m \u001b[0;36m0\u001b[0m\u001b[0;34m\u001b[0m\u001b[0;34m\u001b[0m\u001b[0m\n\u001b[0m",
      "\u001b[0;31mAttributeError\u001b[0m: can't set attribute"
     ]
    }
   ],
   "source": [
    "oper_native._B_column = 0"
   ]
  },
  {
   "cell_type": "markdown",
   "metadata": {},
   "source": [
    "However it is unsafe and can lead to the following unpredictable behaviours:\n",
    "\n",
    "* Overwriting the original array after first run does not modify the result:"
   ]
  },
  {
   "cell_type": "code",
   "execution_count": 12,
   "metadata": {},
   "outputs": [
    {
     "data": {
      "image/png": "[encoded data removed]",
      "text/plain": [
       "<Figure size 640x480 with 1 Axes>"
      ]
     },
     "metadata": {},
     "output_type": "display_data"
    }
   ],
   "source": [
    "oper_native.B = np.zeros((N,N))\n",
    "\n",
    "ux = oper_native.diff(u)\n",
    "oper_native.plot(ux=ux)"
   ]
  },
  {
   "cell_type": "markdown",
   "metadata": {},
   "source": [
    "* No error is raised when modifying the array in place"
   ]
  },
  {
   "cell_type": "code",
   "execution_count": 13,
   "metadata": {},
   "outputs": [],
   "source": [
    "oper_native._B_column[:] = 0"
   ]
  },
  {
   "cell_type": "markdown",
   "metadata": {},
   "source": [
    "* If ``lru_cache(maxsize=None)`` is used it would lead to a potential memory leak."
   ]
  },
  {
   "cell_type": "markdown",
   "metadata": {},
   "source": [
    "## Do it better\n",
    "\n",
    "### Other third-party implementations\n",
    "1. `werkzeug.utils.cached_property` ([docs](http://werkzeug.pocoo.org/docs/0.14/utils/))\n",
    "2. `cached_property.cached_property` ([docs](https://github.com/pydanny/cached-property))\n",
    "\n",
    "These would cache the \"property\" inside `__dict__` and not in some random location in a memory.\n",
    "\n",
    "### Werkzeug"
   ]
  },
  {
   "cell_type": "code",
   "execution_count": 14,
   "metadata": {},
   "outputs": [],
   "source": [
    "from werkzeug.utils import cached_property as wcached_property\n",
    "\n",
    "\n",
    "class OUCS3Werkzeug(BaseCached):\n",
    "    \"\"\"Werkzeug implementation of a ``cached_property``.\n",
    "    \n",
    "    \"\"\"\n",
    "    @wcached_property\n",
    "    def _B_column(self):\n",
    "        return self.B[:,0].toarray()\n",
    "\n",
    "    @wcached_property\n",
    "    def _B_row(self):\n",
    "        return self.B[0,:].toarray()"
   ]
  },
  {
   "cell_type": "markdown",
   "metadata": {},
   "source": [
    "#### First run"
   ]
  },
  {
   "cell_type": "code",
   "execution_count": 15,
   "metadata": {},
   "outputs": [],
   "source": [
    "L, N, x, u = init_params_fields(1_000)\n",
    "oper_wz = OUCS3Werkzeug(L, N)"
   ]
  },
  {
   "cell_type": "code",
   "execution_count": 16,
   "metadata": {},
   "outputs": [
    {
     "data": {
      "text/plain": [
       "Timer unit: 1e-06 s\n",
       "\n",
       "Total time: 0.009176 s\n",
       "File: <ipython-input-6-b2308b39973e>\n",
       "Function: diff at line 4\n",
       "\n",
       "Line #      Hits         Time  Per Hit   % Time  Line Contents\n",
       "==============================================================\n",
       "     4                                               def diff(self, u):\n",
       "     5         1        124.0    124.0      1.4          Au = self.A @ u\n",
       "     6         1        914.0    914.0     10.0          B_column = self._B_column\n",
       "     7         1        887.0    887.0      9.7          B_row = self._B_row\n",
       "     8         1       7251.0   7251.0     79.0          return solve_toeplitz((B_column, B_row), Au)"
      ]
     },
     "metadata": {},
     "output_type": "display_data"
    }
   ],
   "source": [
    "%lprun -f OUCS3Werkzeug.diff oper_wz.diff(u)"
   ]
  },
  {
   "cell_type": "markdown",
   "metadata": {},
   "source": [
    "#### Second run"
   ]
  },
  {
   "cell_type": "code",
   "execution_count": 17,
   "metadata": {},
   "outputs": [
    {
     "data": {
      "text/plain": [
       "Timer unit: 1e-06 s\n",
       "\n",
       "Total time: 0.010082 s\n",
       "File: <ipython-input-6-b2308b39973e>\n",
       "Function: diff at line 4\n",
       "\n",
       "Line #      Hits         Time  Per Hit   % Time  Line Contents\n",
       "==============================================================\n",
       "     4                                               def diff(self, u):\n",
       "     5         1        508.0    508.0      5.0          Au = self.A @ u\n",
       "     6         1         11.0     11.0      0.1          B_column = self._B_column\n",
       "     7         1          4.0      4.0      0.0          B_row = self._B_row\n",
       "     8         1       9559.0   9559.0     94.8          return solve_toeplitz((B_column, B_row), Au)"
      ]
     },
     "metadata": {},
     "output_type": "display_data"
    }
   ],
   "source": [
    "%lprun -f OUCS3Werkzeug.diff oper_wz.diff(u)"
   ]
  },
  {
   "cell_type": "markdown",
   "metadata": {},
   "source": [
    "### cached_property"
   ]
  },
  {
   "cell_type": "code",
   "execution_count": 18,
   "metadata": {},
   "outputs": [],
   "source": [
    "from cached_property import cached_property as ccached_property\n",
    "\n",
    "\n",
    "class OUCS3CachedProperty(BaseCached):\n",
    "    \"\"\"Werkzeug implementation of a ``cached_property``.\n",
    "    \n",
    "    \"\"\"\n",
    "    @ccached_property\n",
    "    def _B_column(self):\n",
    "        return self.B[:,0].toarray()\n",
    "\n",
    "    @ccached_property\n",
    "    def _B_row(self):\n",
    "        return self.B[0,:].toarray()"
   ]
  },
  {
   "cell_type": "markdown",
   "metadata": {},
   "source": [
    "#### First run"
   ]
  },
  {
   "cell_type": "code",
   "execution_count": 19,
   "metadata": {},
   "outputs": [],
   "source": [
    "L, N, x, u = init_params_fields(1_000)\n",
    "oper_cp = OUCS3CachedProperty(L, N)"
   ]
  },
  {
   "cell_type": "code",
   "execution_count": 20,
   "metadata": {},
   "outputs": [
    {
     "data": {
      "text/plain": [
       "Timer unit: 1e-06 s\n",
       "\n",
       "Total time: 0.010591 s\n",
       "File: <ipython-input-6-b2308b39973e>\n",
       "Function: diff at line 4\n",
       "\n",
       "Line #      Hits         Time  Per Hit   % Time  Line Contents\n",
       "==============================================================\n",
       "     4                                               def diff(self, u):\n",
       "     5         1        149.0    149.0      1.4          Au = self.A @ u\n",
       "     6         1       1105.0   1105.0     10.4          B_column = self._B_column\n",
       "     7         1       1935.0   1935.0     18.3          B_row = self._B_row\n",
       "     8         1       7402.0   7402.0     69.9          return solve_toeplitz((B_column, B_row), Au)"
      ]
     },
     "metadata": {},
     "output_type": "display_data"
    }
   ],
   "source": [
    "%lprun -f OUCS3CachedProperty.diff oper_cp.diff(u)"
   ]
  },
  {
   "cell_type": "markdown",
   "metadata": {},
   "source": [
    "#### Second run"
   ]
  },
  {
   "cell_type": "code",
   "execution_count": 21,
   "metadata": {},
   "outputs": [
    {
     "data": {
      "text/plain": [
       "Timer unit: 1e-06 s\n",
       "\n",
       "Total time: 0.006916 s\n",
       "File: <ipython-input-6-b2308b39973e>\n",
       "Function: diff at line 4\n",
       "\n",
       "Line #      Hits         Time  Per Hit   % Time  Line Contents\n",
       "==============================================================\n",
       "     4                                               def diff(self, u):\n",
       "     5         1        141.0    141.0      2.0          Au = self.A @ u\n",
       "     6         1          3.0      3.0      0.0          B_column = self._B_column\n",
       "     7         1          1.0      1.0      0.0          B_row = self._B_row\n",
       "     8         1       6771.0   6771.0     97.9          return solve_toeplitz((B_column, B_row), Au)"
      ]
     },
     "metadata": {},
     "output_type": "display_data"
    }
   ],
   "source": [
    "%lprun -f OUCS3CachedProperty.diff oper_cp.diff(u)"
   ]
  },
  {
   "cell_type": "markdown",
   "metadata": {},
   "source": [
    "### Differences from the native implementation\n",
    "\n",
    "Overwriting cached property is OK as follows"
   ]
  },
  {
   "cell_type": "code",
   "execution_count": 22,
   "metadata": {},
   "outputs": [],
   "source": [
    "oper_wz._B_column = 0"
   ]
  },
  {
   "cell_type": "code",
   "execution_count": 23,
   "metadata": {},
   "outputs": [],
   "source": [
    "oper_cp._B_column = 0"
   ]
  },
  {
   "cell_type": "markdown",
   "metadata": {},
   "source": [
    "An advantage of such implementation is there is no need to add a ``maxsize`` parameter, and thus no risk of having a memory leak.\n",
    "\n",
    "The rest of the \"caveats\" mentioned before still persist in the third-party implementation. I am not sure if it would be possible to raise an `AttributeError` when attempts are made to alter cached property. But this depends on the application, so the caveat can be a feature.\n",
    "\n",
    "When Python 3.8 becomes available we would have access to a [native implementation](https://docs.python.org/3.8/library/functools.html?highlight=cached_property#functools.cached_property) and we would be able to do:\n",
    "\n",
    "```python\n",
    "from functools import cached_property"
   ]
  },
  {
   "cell_type": "markdown",
   "metadata": {},
   "source": [
    "class OUCS3(BaseCached):\n",
    "    \"\"\"A class to perform OUCS3 compact scheme finite differentiation.\n",
    "    A Python 3.8 implementation of a ``cached_property``.\n",
    "    \n",
    "    \"\"\"\n",
    "    @cached_property\n",
    "    def _B_column(self):\n",
    "        return self.B[:,0].toarray()\n",
    "\n",
    "    @cached_property\n",
    "    def _B_row(self):\n",
    "        return self.B[0,:].toarray()\n",
    "```\n",
    "\n",
    "Exciting times ahead.\n",
    "\n",
    "This post was written entirely in the Jupyter notebook. You can [download](https://fluiddyn.bitbucket.io/src/content/2018/lightweight_classes.ipynb) this notebook, or see a static view [on nbviewer](http://nbviewer.jupyter.org/url/fluiddyn.bitbucket.io/src/content/2018/lightweight_classes.ipynb)."
   ]
  }
 ],
 "metadata": {
  "jupytext": {
   "text_representation": {
    "extension": ".md",
    "format_name": "markdown",
    "format_version": "1.0",
    "jupytext_version": "0.8.6"
   }
  },
  "kernelspec": {
   "display_name": "Python 3",
   "language": "python",
   "name": "python3"
  },
  "language_info": {
   "codemirror_mode": {
    "name": "ipython",
    "version": 3
   },
   "file_extension": ".py",
   "mimetype": "text/x-python",
   "name": "python",
   "nbconvert_exporter": "python",
   "pygments_lexer": "ipython3",
   "version": "3.7.1"
  }
 },
 "nbformat": 4,
 "nbformat_minor": 2
}
