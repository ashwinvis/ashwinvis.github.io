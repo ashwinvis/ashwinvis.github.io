{
 "cells": [
  {
   "cell_type": "markdown",
   "metadata": {},
   "source": [
    "- Title: Diversity amongst Python interpreters\n",
    "- Authors: Ashwin Vishnu\n",
    "- Date: 2019-08-06\n",
    "- Tags: python, pypy, rust, java, csharp\n",
    "- Category: Tech Talk\n",
    "- Summary: We now have multiple Python interpreters and let's see what is in store."
   ]
  },
  {
   "cell_type": "markdown",
   "metadata": {},
   "source": [
    "Whenever we mention Python, we are mostly talking about the reference implementation CPython.\n",
    "CPython is a great project, but it is important to take stock of other implementations which \n",
    "are good alternatives and have some advantages. I only list the active projects below, as of 2019:\n",
    "\n",
    "* [PyPy](https://pypy.org/) or rpython: nearly complete compliance with Python 3.5 and 3.6 standard library, faster\n",
    "* [RustPython](https://rustpython.github.io/demo/): the newest kid in the block. Can be compiled to WebAssembly.\n",
    "  Potentially we might get Rust's memory management as garbage collectors.\n",
    "* [GraalPython](https://github.com/graalvm/graalpython): based on Java GraalVM with a goal to support\n",
    "  Python's standard library and scientific ecosystem.\n",
    "* [Jython](https://www.jython.org/): embeds Java in Python 2.7\n",
    "* [IronPython](https://ironpython.net/): embeds .NET frameworks in Python 2.7\n",
    "* [MicroPython](https://micropython.org/) and [CircuitPython](https://circuitpython.org/): Python runtime and compiler for microcontrollers\n",
    "\n",
    "\n",
    "To summarize there are three motivations behind these projects. To make Python:\n",
    "\n",
    "* easier to embed in other environments (browser, microcontrollers)\n",
    "* integrated with other languages\n",
    "* improve performance (removing GIL, adding JIT, faster eval)\n",
    "\n",
    "There were some discussion on reducing[^1], reusing[^2], reorganising[^3], the standard\n",
    "libraries and even rewriting the standard library as pure-Python modules[^4]. It is nice \n",
    "that such conversations are happenning as they can move the code base\n",
    "and sister projects forward by getting rid of baggage, not doing wheel reinventing\n",
    "and not breaking compatibility.\n",
    "\n",
    "[^1]: https://www.python.org/dev/peps/pep-0594/\n",
    "[^3]: https://doughellmann.com/blog/2019/06/29/dependencies-between-python-standard-library-modules/\n",
    "[^2]: https://discuss.python.org/t/re-use-of-standard-library-across-implementations/2051\n",
    "[^4]: https://github.com/beeware/ouroboros"
   ]
  },
  {
   "cell_type": "markdown",
   "metadata": {},
   "source": [
    "If there is anything I would like to see, it is more it is..."
   ]
  },
  {
   "cell_type": "markdown",
   "metadata": {},
   "source": [
    "# Performance!\n",
    "\n",
    "Note that it is possible to get really good performance with CPython by writing extensions using Pythran, Numba etc.\n",
    "Let's see if how much faster can these alternate implementations be, based on a naive benchmark, loop hundred\n",
    "million times, and do nothing.\n",
    "\n",
    "```python\n",
    "N = 100_000_000\n",
    "for i in range(N):\n",
    "    pass\n",
    "```\n",
    "\n",
    "and a [slightly more efficient looping](https://pymotw.com/2/itertools/)\n",
    "\n",
    "```python\n",
    "from itertools import repeat\n",
    "\n",
    "N = 100_000_000\n",
    "for _ in repeat(None, N):\n",
    "    pass\n",
    "```"
   ]
  },
  {
   "cell_type": "markdown",
   "metadata": {},
   "source": [
    "## CPython"
   ]
  },
  {
   "cell_type": "code",
   "execution_count": 5,
   "metadata": {},
   "outputs": [
    {
     "name": "stderr",
     "output_type": "stream",
     "text": [
      "\n",
      "real\t0m3.232s\n",
      "user\t0m3.231s\n",
      "sys\t0m0.000s\n"
     ]
    }
   ],
   "source": [
    "%%bash\n",
    "time python -c '\n",
    "N = 100_000_000\n",
    "for i in range(N):\n",
    "    pass\n",
    "'"
   ]
  },
  {
   "cell_type": "code",
   "execution_count": 6,
   "metadata": {},
   "outputs": [
    {
     "name": "stderr",
     "output_type": "stream",
     "text": [
      "\n",
      "real\t0m2.233s\n",
      "user\t0m2.233s\n",
      "sys\t0m0.000s\n"
     ]
    }
   ],
   "source": [
    "%%bash\n",
    "time python -c '\n",
    "from itertools import repeat\n",
    "\n",
    "N = 100_000_000\n",
    "for _ in repeat(None, N):\n",
    "    pass\n",
    "'"
   ]
  },
  {
   "cell_type": "markdown",
   "metadata": {},
   "source": [
    "## PyPy"
   ]
  },
  {
   "cell_type": "code",
   "execution_count": 7,
   "metadata": {},
   "outputs": [
    {
     "name": "stderr",
     "output_type": "stream",
     "text": [
      "\n",
      "real\t0m0.433s\n",
      "user\t0m0.183s\n",
      "sys\t0m0.020s\n"
     ]
    }
   ],
   "source": [
    "%%bash\n",
    "time pypy3 -c '\n",
    "N = 100_000_000\n",
    "for i in range(N):\n",
    "    pass\n",
    "'"
   ]
  },
  {
   "cell_type": "code",
   "execution_count": 8,
   "metadata": {},
   "outputs": [
    {
     "name": "stderr",
     "output_type": "stream",
     "text": [
      "\n",
      "real\t0m0.255s\n",
      "user\t0m0.209s\n",
      "sys\t0m0.021s\n"
     ]
    }
   ],
   "source": [
    "%%bash\n",
    "time pypy3 -c '\n",
    "from itertools import repeat\n",
    "\n",
    "N = 100_000_000\n",
    "for _ in repeat(None, N):\n",
    "    pass\n",
    "'"
   ]
  },
  {
   "cell_type": "markdown",
   "metadata": {},
   "source": [
    "## RustPython"
   ]
  },
  {
   "cell_type": "code",
   "execution_count": 18,
   "metadata": {},
   "outputs": [
    {
     "name": "stderr",
     "output_type": "stream",
     "text": [
      "\n",
      "real\t0m3.308s\n",
      "user\t0m3.297s\n",
      "sys\t0m0.010s\n"
     ]
    }
   ],
   "source": [
    "%%bash\n",
    "time rustpython -c '\n",
    "N = 1000000\n",
    "for i in range(N):\n",
    "    pass\n",
    "'"
   ]
  },
  {
   "cell_type": "code",
   "execution_count": 19,
   "metadata": {},
   "outputs": [
    {
     "name": "stderr",
     "output_type": "stream",
     "text": [
      "\n",
      "real\t0m12.876s\n",
      "user\t0m12.865s\n",
      "sys\t0m0.010s\n"
     ]
    }
   ],
   "source": [
    "%%bash\n",
    "time rustpython -c '\n",
    "from itertools import repeat\n",
    "\n",
    "N = 1000000\n",
    "for _ in repeat(None, N):\n",
    "    pass\n",
    "'"
   ]
  },
  {
   "cell_type": "markdown",
   "metadata": {},
   "source": [
    "RustPython is surpisingly slow at the moment, so we don't do 100 million iterations and only a million instead."
   ]
  },
  {
   "cell_type": "markdown",
   "metadata": {},
   "source": [
    "## GraalPython"
   ]
  },
  {
   "cell_type": "code",
   "execution_count": 27,
   "metadata": {},
   "outputs": [
    {
     "name": "stderr",
     "output_type": "stream",
     "text": [
      "Please note: This Python implementation is in the very early stages, and can run little more than basic benchmarks at this point.\n",
      "\n",
      "real\t0m6.894s\n",
      "user\t0m6.829s\n",
      "sys\t0m0.190s\n"
     ]
    }
   ],
   "source": [
    "%%bash\n",
    "time graalpython -c '\n",
    "N = 100_000_000\n",
    "for i in range(N):\n",
    "    pass\n",
    "'"
   ]
  },
  {
   "cell_type": "code",
   "execution_count": 28,
   "metadata": {},
   "outputs": [
    {
     "name": "stderr",
     "output_type": "stream",
     "text": [
      "Please note: This Python implementation is in the very early stages, and can run little more than basic benchmarks at this point.\n",
      "\n",
      "real\t0m5.960s\n",
      "user\t0m5.909s\n",
      "sys\t0m0.200s\n"
     ]
    }
   ],
   "source": [
    "%%bash\n",
    "time graalpython -c '\n",
    "from itertools import repeat\n",
    "\n",
    "N = 100_000_000\n",
    "for _ in repeat(None, N):\n",
    "    pass\n",
    "'"
   ]
  },
  {
   "cell_type": "markdown",
   "metadata": {},
   "source": [
    "# Final comments"
   ]
  },
  {
   "cell_type": "markdown",
   "metadata": {},
   "source": [
    "**And the winners are...**\n",
    "\n",
    "1. PyPy\n",
    "1. CPython\n",
    "1. GraalPython\n",
    "1. RustPython"
   ]
  },
  {
   "cell_type": "markdown",
   "metadata": {},
   "source": [
    "I would love to use PyPy as my daily driver, but the only reason I couldn't do it is because I almost never manage to get packages like\n",
    "numpy working. Although [PyPy claims otherwise](http://packages.pypy.org/)."
   ]
  },
  {
   "cell_type": "markdown",
   "metadata": {},
   "source": [
    "**Some eyecandy...**\n",
    "\n",
    "It is also interesting how the prompt looks :)"
   ]
  },
  {
   "cell_type": "code",
   "execution_count": 22,
   "metadata": {},
   "outputs": [
    {
     "name": "stdout",
     "output_type": "stream",
     "text": [
      "Python 3.7.4 (default, Jul 16 2019, 07:12:58) \n",
      "[GCC 9.1.0] on linux\n",
      "Type \"help\", \"copyright\", \"credits\" or \"license\" for more information.\n",
      ">>> \n",
      "Traceback (most recent call last):\n",
      "  File \"<stdin>\", line 1, in <module>\n",
      "KeyboardInterrupt\n",
      ">>> "
     ]
    }
   ],
   "source": [
    "!python"
   ]
  },
  {
   "cell_type": "code",
   "execution_count": 23,
   "metadata": {},
   "outputs": [
    {
     "name": "stdout",
     "output_type": "stream",
     "text": [
      "Python 3.6.1 (784b254d669919c872a505b807db8462b6140973, May 09 2019, 13:17:30)\n",
      "[PyPy 7.1.1-beta0 with GCC 8.3.0] on linux\n",
      "Type \"help\", \"copyright\", \"credits\" or \"license\" for more information.\n",
      "Jedi is not installed, falling back to readline\n",
      "And now for something completely different: ``PyPy is an exciting technology\n",
      "that lets you to write fast, portable, multi-platform interpreters with less\n",
      "effort''\n",
      "\u001b[?1h\u001b=\u001b[1A\n",
      ">>>> \u001b[5D\n",
      "\u001b[?1l\u001b>\n",
      "KeyboardInterrupt\n",
      "\u001b[?1h\u001b=\u001b[1A\n",
      ">>>> \u001b[5D\n",
      "\u001b[?1l\u001b>\u001b[?1h\u001b=\u001b[1A\n",
      ">>>> "
     ]
    }
   ],
   "source": [
    "!pypy3"
   ]
  },
  {
   "cell_type": "code",
   "execution_count": 24,
   "metadata": {},
   "outputs": [
    {
     "name": "stdout",
     "output_type": "stream",
     "text": [
      "Welcome to the magnificent Rust Python 0.1.0 interpreter 😱 🖖\n",
      "\u001b[6C>>>>> \u001b[?2004l\n",
      "^C\n",
      "\u001b[6C\u001b[?2004l\n",
      "\u001b[6C>>>>> "
     ]
    }
   ],
   "source": [
    "!rustpython"
   ]
  },
  {
   "cell_type": "code",
   "execution_count": 25,
   "metadata": {},
   "outputs": [
    {
     "name": "stdout",
     "output_type": "stream",
     "text": [
      "Python 3.7.3 (Sat Jul 13 09:46:34 UTC 2019)\n",
      "[GraalVM CE, Java 1.8.0_222] on linux\n",
      "Type \"help\", \"copyright\", \"credits\" or \"license\" for more information.\n",
      "Please note: This Python implementation is in the very early stages, and can run little more than basic benchmarks at this point.\n",
      ">>> \n",
      ">>> \n"
     ]
    }
   ],
   "source": [
    "!graalpython"
   ]
  },
  {
   "cell_type": "markdown",
   "metadata": {},
   "source": [
    "# Versions\n",
    "\n",
    "I have used the latest and greatest releases. For future reference:"
   ]
  },
  {
   "cell_type": "code",
   "execution_count": 26,
   "metadata": {},
   "outputs": [
    {
     "name": "stdout",
     "output_type": "stream",
     "text": [
      "Python 3.7.4\n",
      "Python 3.6.1 (784b254d669919c872a505b807db8462b6140973, May 09 2019, 13:17:30)\n",
      "[PyPy 7.1.1-beta0 with GCC 8.3.0]\n",
      "RustPython 0.1.0\n",
      "Python 3.7.3 (GraalVM CE Native 19.1.1)\n"
     ]
    }
   ],
   "source": [
    "%%bash\n",
    "python -V\n",
    "pypy3 -V\n",
    "rustpython -V\n",
    "graalpython -V"
   ]
  },
  {
   "cell_type": "markdown",
   "metadata": {},
   "source": [
    "*You can [download](https://raw.githubusercontent.com/ashwinvis/ashwinvis.github.io/develop/src/content/python_interpreters.ipynb) this notebook, or see a static view [on nbviewer](https://nbviewer.jupyter.org/github/ashwinvis/ashwinvis.github.io/blob/develop/src/content/python_interpreters.ipynb).*"
   ]
  }
 ],
 "metadata": {
  "jupytext": {
   "text_representation": {
    "extension": ".md",
    "format_name": "markdown",
    "format_version": "1.0",
    "jupytext_version": "0.8.6"
   }
  },
  "kernelspec": {
   "display_name": "Python 3",
   "language": "python",
   "name": "python3"
  },
  "language_info": {
   "codemirror_mode": {
    "name": "ipython",
    "version": 3
   },
   "file_extension": ".py",
   "mimetype": "text/x-python",
   "name": "python",
   "nbconvert_exporter": "python",
   "pygments_lexer": "ipython3",
   "version": "3.7.4"
  }
 },
 "nbformat": 4,
 "nbformat_minor": 4
}
