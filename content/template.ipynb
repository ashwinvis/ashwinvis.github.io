{
 "cells": [
  {
   "cell_type": "markdown",
   "metadata": {},
   "source": [
    "- Title: Insert title\n",
    "- Authors: Ashwin Vishnu\n",
    "- Date: 2019-07-24\n",
    "- Tags: python, sympy\n",
    "- Category: Tech Talk\n",
    "- Status: draft\n",
    "- Summary: Few lines"
   ]
  },
  {
   "cell_type": "markdown",
   "metadata": {},
   "source": [
    "*You can [download](https://raw.githubusercontent.com/ashwinvis/ashwinvis.github.io/develop/src/content/feigenbaum_constant.ipynb) this notebook, or see a static view [on nbviewer](https://nbviewer.jupyter.org/github/ashwinvis/ashwinvis.github.io/blob/develop/src/content/feigenbaum_constant.ipynb).*"
   ]
  }
 ],
 "metadata": {
  "jupytext": {
   "text_representation": {
    "extension": ".md",
    "format_name": "markdown",
    "format_version": "1.0",
    "jupytext_version": "0.8.6"
   }
  },
  "kernelspec": {
   "display_name": "Python 3",
   "language": "python",
   "name": "python3"
  },
  "language_info": {
   "codemirror_mode": {
    "name": "ipython",
    "version": 3
   },
   "file_extension": ".py",
   "mimetype": "text/x-python",
   "name": "python",
   "nbconvert_exporter": "python",
   "pygments_lexer": "ipython3",
   "version": "3.7.4"
  }
 },
 "nbformat": 4,
 "nbformat_minor": 4
}
